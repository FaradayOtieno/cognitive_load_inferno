{
 "cells": [
  {
   "cell_type": "code",
   "execution_count": null,
   "id": "96bf027b-1f74-445a-ad22-34b73007cdd5",
   "metadata": {},
   "outputs": [],
   "source": [
    "## Import Libraries\n",
    "\n",
    "import pandas as pd\n",
    "from textblob import TextBlob\n",
    "import textstat\n",
    "from wordcloud import WordCloud\n",
    "import matplotlib.pyplot as plt\n",
    "import re\n",
    "from collections import Counter"
   ]
  },
  {
   "cell_type": "code",
   "execution_count": null,
   "id": "177ff85c-f6be-4bb6-8740-e9305cb3b0a9",
   "metadata": {},
   "outputs": [],
   "source": [
    "# Load Dante text\n",
    "with open(r\"C:\\Users\\user\\Desktop\\datasets\\dante_inferno.txt\", \"r\", encoding=\"utf-8\") as file:\n",
    "    inferno = file.read()"
   ]
  },
  {
   "cell_type": "code",
   "execution_count": null,
   "id": "7456c704-ce10-4e05-8cab-1a1a7039c2f3",
   "metadata": {},
   "outputs": [],
   "source": [
    "# Split into sections (e.g., Cantos)\n",
    "\n",
    "sections = [s.strip() for s in inferno.split(\"Canto\") if s.strip()]\n",
    "cantos = [f\"Canto {s}\" for s in sections]\n",
    "\n",
    "metrics = []\n",
    "all_words =[]"
   ]
  },
  {
   "cell_type": "code",
   "execution_count": null,
   "id": "e4a6006c-339b-4310-9db1-696650c9aeb1",
   "metadata": {},
   "outputs": [],
   "source": [
    "# Process each Canto\n",
    "\n",
    "for i, text in enumerate(cantos, 1):\n",
    "    blob = TextBlob(text)\n",
    "    words = re.findall(r'\\b\\w+\\b', text.lower())\n",
    "\n",
    "metrics.append({\n",
    "        \"Canto\": i,\n",
    "        \"FleschEase\": textstat.flesch_reading_ease(text),\n",
    "        \"FKGrade\": textstat.flesch_kincaid_grade(text),\n",
    "        \"SMOG\": textstat.smog_index(text),\n",
    "        \"DifficultWords\": textstat.difficult_words(text),\n",
    "        \"LexicalDiversity\": round(len(set(words)) / len(words), 3),\n",
    "        \"AvgSentenceLength\": textstat.avg_sentence_length(text),\n",
    "        \"Polarity\": blob.sentiment.polarity,\n",
    "        \"Subjectivity\": blob.sentiment.subjectivity\n",
    "})\n",
    "all_words.extend(words)"
   ]
  },
  {
   "cell_type": "code",
   "execution_count": null,
   "id": "75d29476-eb81-4015-8eef-fbecf282b1ac",
   "metadata": {},
   "outputs": [],
   "source": [
    "### import textstat is used here to obtain the scores\n",
    "\n",
    "text = \"Your full text or canto here.\"\n",
    "\n",
    "print(\"Flesch Reading Ease:\", textstat.flesch_reading_ease(text))\n",
    "print(\"Flesch-Kincaid Grade:\", textstat.flesch_kincaid_grade(text))\n",
    "print(\"SMOG Index:\", textstat.smog_index(text))\n",
    "print(\"Automated Readability Index:\", textstat.automated_readability_index(text))\n",
    "print(\"Dale-Chall Score:\", textstat.dale_chall_readability_score(text))\n",
    "print(\"Difficult Words:\", textstat.difficult_words(text))\n",
    "print(\"Lexicon Count:\", textstat.lexicon_count(text))\n",
    "print(\"Average Sentence Length:\", textstat.avg_sentence_length(text))"
   ]
  },
  {
   "cell_type": "code",
   "execution_count": null,
   "id": "27f6cf78-baf6-4348-a0a3-bedbf6c4c1f0",
   "metadata": {},
   "outputs": [],
   "source": [
    "# save the metrics into csv \n",
    "\n",
    "df = pd.DataFrame(metrics)\n",
    "df.to_csv(\"dante_metrics.csv\", index=False)"
   ]
  },
  {
   "cell_type": "code",
   "execution_count": null,
   "id": "56b4c67f-9277-41d6-b8fe-87a7c385922d",
   "metadata": {},
   "outputs": [],
   "source": [
    "### Generate WordCloud\n",
    "\n",
    "text_combined = \" \".join(all_words)\n",
    "wordcloud = WordCloud(width=1000, height=500, background_color=\"white\").generate(text_combined)\n",
    "\n",
    "plt.figure(figsize=(12, 6))\n",
    "plt.imshow(wordcloud, interpolation='bilinear')\n",
    "plt.axis('off')\n",
    "plt.title(\"Word Cloud of Dante's Inferno\")\n",
    "plt.tight_layout()\n",
    "plt.show()"
   ]
  },
  {
   "cell_type": "code",
   "execution_count": null,
   "id": "a12bfcdc-7456-4b87-8d8c-cfac91edac41",
   "metadata": {},
   "outputs": [],
   "source": [
    "# use import pandas as pd\n",
    "\n",
    "# Correctly formatted file path\n",
    "filepath = r\"C:\\Users\\user\\NRC-Emotion-Lexicon-Wordlevel-v0.92.txt\"\n",
    "\n",
    "# Load NRC Emotion Lexicon\n",
    "nrc = pd.read_csv(filepath, sep='\\t', names=[\"word\", \"emotion\", \"association\"])\n",
    "\n",
    "# Filter for words with a positive association (1 = associated with emotion)\n",
    "nrc = nrc[nrc['association'] == 1]\n",
    "\n",
    "# Create a dictionary: word → list of associated emotions\n",
    "emotion_dict = nrc.groupby('word')['emotion'].apply(list).to_dict()\n",
    "\n",
    "# Preview\n",
    "print(\"Sample emotion associations:\")\n",
    "for word in list(emotion_dict.keys())[:5]:\n",
    "    print(f\"{word} → {emotion_dict[word]}\")"
   ]
  },
  {
   "cell_type": "code",
   "execution_count": null,
   "id": "3535d005-f0b9-48c6-91c7-6529319f5696",
   "metadata": {},
   "outputs": [],
   "source": [
    "# emotional frequency analysis\n",
    "\n",
    "import matplotlib.pyplot as plt\n",
    "from collections import Counter\n",
    "import re\n",
    "\n",
    "# Load Dante text\n",
    "with open(r\"C:\\Users\\user\\Desktop\\datasets\\dante_inferno.txt\", \"r\", encoding=\"utf-8\") as file:\n",
    "    inferno = file.read()\n",
    "\n",
    "# Step 2: Clean and tokenize\n",
    "words = re.findall(r'\\b[a-z]{2,}\\b', inferno)\n",
    "\n",
    "# Step 3: Match words to emotion dictionary\n",
    "emotion_words = []\n",
    "for word in words:\n",
    "    if word in emotion_dict:\n",
    "        emotion_words.extend(emotion_dict[word])\n",
    "\n",
    "# Step 4: Count emotions\n",
    "emotion_freq = Counter(emotion_words)\n",
    "\n",
    "# Step 5: Plot emotion frequencies\n",
    "plt.figure(figsize=(12, 6))\n",
    "plt.bar(emotion_freq.keys(), emotion_freq.values(), color='skyblue')\n",
    "plt.title(\"Emotion Frequency in Dante's Inferno\")\n",
    "plt.xlabel(\"Emotion\")\n",
    "plt.ylabel(\"Frequency\")\n",
    "plt.xticks(rotation=45)\n",
    "plt.tight_layout()\n",
    "plt.grid(axis='y', linestyle='--', alpha=0.7)\n",
    "plt.show()"
   ]
  }
 ],
 "metadata": {
  "kernelspec": {
   "display_name": "Python 3 (ipykernel)",
   "language": "python",
   "name": "python3"
  },
  "language_info": {
   "codemirror_mode": {
    "name": "ipython",
    "version": 3
   },
   "file_extension": ".py",
   "mimetype": "text/x-python",
   "name": "python",
   "nbconvert_exporter": "python",
   "pygments_lexer": "ipython3",
   "version": "3.13.2"
  }
 },
 "nbformat": 4,
 "nbformat_minor": 5
}
